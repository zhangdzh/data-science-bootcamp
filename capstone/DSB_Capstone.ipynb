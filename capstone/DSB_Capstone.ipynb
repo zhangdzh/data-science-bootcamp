{
  "nbformat": 4,
  "nbformat_minor": 0,
  "metadata": {
    "colab": {
      "name": "DSB_Capstone.ipynb",
      "provenance": []
    },
    "kernelspec": {
      "name": "python3",
      "display_name": "Python 3"
    },
    "language_info": {
      "name": "python"
    }
  },
  "cells": [
    {
      "cell_type": "markdown",
      "metadata": {
        "id": "alty2nPkjFmB"
      },
      "source": [
        "# Data Science Bootcamp Capstone"
      ]
    },
    {
      "cell_type": "markdown",
      "metadata": {
        "id": "ioZuoFTGjTUk"
      },
      "source": [
        "## The Initial Setup"
      ]
    },
    {
      "cell_type": "code",
      "metadata": {
        "id": "B7P1-70b9LPQ"
      },
      "source": [
        "import pandas as pd\n",
        "import seaborn as sns\n",
        "import matplotlib.pyplot as plt\n",
        "\n",
        "%matplotlib inline"
      ],
      "execution_count": 4,
      "outputs": []
    },
    {
      "cell_type": "markdown",
      "metadata": {
        "id": "JyDB-eBI9Vea"
      },
      "source": [
        "Get data and some basic information: columns, content, etc. "
      ]
    },
    {
      "cell_type": "code",
      "metadata": {
        "colab": {
          "base_uri": "https://localhost:8080/"
        },
        "id": "wfUt7-to9isC",
        "outputId": "4af18c64-6572-4364-a29d-5334cc983a54"
      },
      "source": [
        "url = 'https://raw.githubusercontent.com/fivethirtyeight/data/master/comic-characters/marvel-wikia-data.csv'\n",
        "# marvel characters data\n",
        "df = pd.read_csv(url, sep=\",\", index_col=0)\n",
        "df.info()"
      ],
      "execution_count": 5,
      "outputs": [
        {
          "output_type": "stream",
          "text": [
            "<class 'pandas.core.frame.DataFrame'>\n",
            "Int64Index: 16376 entries, 1678 to 673702\n",
            "Data columns (total 12 columns):\n",
            " #   Column            Non-Null Count  Dtype  \n",
            "---  ------            --------------  -----  \n",
            " 0   name              16376 non-null  object \n",
            " 1   urlslug           16376 non-null  object \n",
            " 2   ID                12606 non-null  object \n",
            " 3   ALIGN             13564 non-null  object \n",
            " 4   EYE               6609 non-null   object \n",
            " 5   HAIR              12112 non-null  object \n",
            " 6   SEX               15522 non-null  object \n",
            " 7   GSM               90 non-null     object \n",
            " 8   ALIVE             16373 non-null  object \n",
            " 9   APPEARANCES       15280 non-null  float64\n",
            " 10  FIRST APPEARANCE  15561 non-null  object \n",
            " 11  Year              15561 non-null  float64\n",
            "dtypes: float64(2), object(10)\n",
            "memory usage: 1.6+ MB\n"
          ],
          "name": "stdout"
        }
      ]
    },
    {
      "cell_type": "markdown",
      "metadata": {
        "id": "353Bz-PZp9sT"
      },
      "source": [
        "Certain columns contain drastically less non-null values than others, especially \"GSM\" and \"EYE.\" "
      ]
    },
    {
      "cell_type": "code",
      "metadata": {
        "colab": {
          "base_uri": "https://localhost:8080/",
          "height": 914
        },
        "id": "2JKF_Xhgb2_R",
        "outputId": "d350525f-e67e-4bb1-e458-73969a4be1ad"
      },
      "source": [
        "df.head(10)\n",
        "# df.describe()"
      ],
      "execution_count": 6,
      "outputs": [
        {
          "output_type": "execute_result",
          "data": {
            "text/html": [
              "<div>\n",
              "<style scoped>\n",
              "    .dataframe tbody tr th:only-of-type {\n",
              "        vertical-align: middle;\n",
              "    }\n",
              "\n",
              "    .dataframe tbody tr th {\n",
              "        vertical-align: top;\n",
              "    }\n",
              "\n",
              "    .dataframe thead th {\n",
              "        text-align: right;\n",
              "    }\n",
              "</style>\n",
              "<table border=\"1\" class=\"dataframe\">\n",
              "  <thead>\n",
              "    <tr style=\"text-align: right;\">\n",
              "      <th></th>\n",
              "      <th>name</th>\n",
              "      <th>urlslug</th>\n",
              "      <th>ID</th>\n",
              "      <th>ALIGN</th>\n",
              "      <th>EYE</th>\n",
              "      <th>HAIR</th>\n",
              "      <th>SEX</th>\n",
              "      <th>GSM</th>\n",
              "      <th>ALIVE</th>\n",
              "      <th>APPEARANCES</th>\n",
              "      <th>FIRST APPEARANCE</th>\n",
              "      <th>Year</th>\n",
              "    </tr>\n",
              "    <tr>\n",
              "      <th>page_id</th>\n",
              "      <th></th>\n",
              "      <th></th>\n",
              "      <th></th>\n",
              "      <th></th>\n",
              "      <th></th>\n",
              "      <th></th>\n",
              "      <th></th>\n",
              "      <th></th>\n",
              "      <th></th>\n",
              "      <th></th>\n",
              "      <th></th>\n",
              "      <th></th>\n",
              "    </tr>\n",
              "  </thead>\n",
              "  <tbody>\n",
              "    <tr>\n",
              "      <th>1678</th>\n",
              "      <td>Spider-Man (Peter Parker)</td>\n",
              "      <td>\\/Spider-Man_(Peter_Parker)</td>\n",
              "      <td>Secret Identity</td>\n",
              "      <td>Good Characters</td>\n",
              "      <td>Hazel Eyes</td>\n",
              "      <td>Brown Hair</td>\n",
              "      <td>Male Characters</td>\n",
              "      <td>NaN</td>\n",
              "      <td>Living Characters</td>\n",
              "      <td>4043.0</td>\n",
              "      <td>Aug-62</td>\n",
              "      <td>1962.0</td>\n",
              "    </tr>\n",
              "    <tr>\n",
              "      <th>7139</th>\n",
              "      <td>Captain America (Steven Rogers)</td>\n",
              "      <td>\\/Captain_America_(Steven_Rogers)</td>\n",
              "      <td>Public Identity</td>\n",
              "      <td>Good Characters</td>\n",
              "      <td>Blue Eyes</td>\n",
              "      <td>White Hair</td>\n",
              "      <td>Male Characters</td>\n",
              "      <td>NaN</td>\n",
              "      <td>Living Characters</td>\n",
              "      <td>3360.0</td>\n",
              "      <td>Mar-41</td>\n",
              "      <td>1941.0</td>\n",
              "    </tr>\n",
              "    <tr>\n",
              "      <th>64786</th>\n",
              "      <td>Wolverine (James \\\"Logan\\\" Howlett)</td>\n",
              "      <td>\\/Wolverine_(James_%22Logan%22_Howlett)</td>\n",
              "      <td>Public Identity</td>\n",
              "      <td>Neutral Characters</td>\n",
              "      <td>Blue Eyes</td>\n",
              "      <td>Black Hair</td>\n",
              "      <td>Male Characters</td>\n",
              "      <td>NaN</td>\n",
              "      <td>Living Characters</td>\n",
              "      <td>3061.0</td>\n",
              "      <td>Oct-74</td>\n",
              "      <td>1974.0</td>\n",
              "    </tr>\n",
              "    <tr>\n",
              "      <th>1868</th>\n",
              "      <td>Iron Man (Anthony \\\"Tony\\\" Stark)</td>\n",
              "      <td>\\/Iron_Man_(Anthony_%22Tony%22_Stark)</td>\n",
              "      <td>Public Identity</td>\n",
              "      <td>Good Characters</td>\n",
              "      <td>Blue Eyes</td>\n",
              "      <td>Black Hair</td>\n",
              "      <td>Male Characters</td>\n",
              "      <td>NaN</td>\n",
              "      <td>Living Characters</td>\n",
              "      <td>2961.0</td>\n",
              "      <td>Mar-63</td>\n",
              "      <td>1963.0</td>\n",
              "    </tr>\n",
              "    <tr>\n",
              "      <th>2460</th>\n",
              "      <td>Thor (Thor Odinson)</td>\n",
              "      <td>\\/Thor_(Thor_Odinson)</td>\n",
              "      <td>No Dual Identity</td>\n",
              "      <td>Good Characters</td>\n",
              "      <td>Blue Eyes</td>\n",
              "      <td>Blond Hair</td>\n",
              "      <td>Male Characters</td>\n",
              "      <td>NaN</td>\n",
              "      <td>Living Characters</td>\n",
              "      <td>2258.0</td>\n",
              "      <td>Nov-50</td>\n",
              "      <td>1950.0</td>\n",
              "    </tr>\n",
              "    <tr>\n",
              "      <th>2458</th>\n",
              "      <td>Benjamin Grimm (Earth-616)</td>\n",
              "      <td>\\/Benjamin_Grimm_(Earth-616)</td>\n",
              "      <td>Public Identity</td>\n",
              "      <td>Good Characters</td>\n",
              "      <td>Blue Eyes</td>\n",
              "      <td>No Hair</td>\n",
              "      <td>Male Characters</td>\n",
              "      <td>NaN</td>\n",
              "      <td>Living Characters</td>\n",
              "      <td>2255.0</td>\n",
              "      <td>Nov-61</td>\n",
              "      <td>1961.0</td>\n",
              "    </tr>\n",
              "    <tr>\n",
              "      <th>2166</th>\n",
              "      <td>Reed Richards (Earth-616)</td>\n",
              "      <td>\\/Reed_Richards_(Earth-616)</td>\n",
              "      <td>Public Identity</td>\n",
              "      <td>Good Characters</td>\n",
              "      <td>Brown Eyes</td>\n",
              "      <td>Brown Hair</td>\n",
              "      <td>Male Characters</td>\n",
              "      <td>NaN</td>\n",
              "      <td>Living Characters</td>\n",
              "      <td>2072.0</td>\n",
              "      <td>Nov-61</td>\n",
              "      <td>1961.0</td>\n",
              "    </tr>\n",
              "    <tr>\n",
              "      <th>1833</th>\n",
              "      <td>Hulk (Robert Bruce Banner)</td>\n",
              "      <td>\\/Hulk_(Robert_Bruce_Banner)</td>\n",
              "      <td>Public Identity</td>\n",
              "      <td>Good Characters</td>\n",
              "      <td>Brown Eyes</td>\n",
              "      <td>Brown Hair</td>\n",
              "      <td>Male Characters</td>\n",
              "      <td>NaN</td>\n",
              "      <td>Living Characters</td>\n",
              "      <td>2017.0</td>\n",
              "      <td>May-62</td>\n",
              "      <td>1962.0</td>\n",
              "    </tr>\n",
              "    <tr>\n",
              "      <th>29481</th>\n",
              "      <td>Scott Summers (Earth-616)</td>\n",
              "      <td>\\/Scott_Summers_(Earth-616)</td>\n",
              "      <td>Public Identity</td>\n",
              "      <td>Neutral Characters</td>\n",
              "      <td>Brown Eyes</td>\n",
              "      <td>Brown Hair</td>\n",
              "      <td>Male Characters</td>\n",
              "      <td>NaN</td>\n",
              "      <td>Living Characters</td>\n",
              "      <td>1955.0</td>\n",
              "      <td>Sep-63</td>\n",
              "      <td>1963.0</td>\n",
              "    </tr>\n",
              "    <tr>\n",
              "      <th>1837</th>\n",
              "      <td>Jonathan Storm (Earth-616)</td>\n",
              "      <td>\\/Jonathan_Storm_(Earth-616)</td>\n",
              "      <td>Public Identity</td>\n",
              "      <td>Good Characters</td>\n",
              "      <td>Blue Eyes</td>\n",
              "      <td>Blond Hair</td>\n",
              "      <td>Male Characters</td>\n",
              "      <td>NaN</td>\n",
              "      <td>Living Characters</td>\n",
              "      <td>1934.0</td>\n",
              "      <td>Nov-61</td>\n",
              "      <td>1961.0</td>\n",
              "    </tr>\n",
              "  </tbody>\n",
              "</table>\n",
              "</div>"
            ],
            "text/plain": [
              "                                        name  ...    Year\n",
              "page_id                                       ...        \n",
              "1678               Spider-Man (Peter Parker)  ...  1962.0\n",
              "7139         Captain America (Steven Rogers)  ...  1941.0\n",
              "64786    Wolverine (James \\\"Logan\\\" Howlett)  ...  1974.0\n",
              "1868       Iron Man (Anthony \\\"Tony\\\" Stark)  ...  1963.0\n",
              "2460                     Thor (Thor Odinson)  ...  1950.0\n",
              "2458              Benjamin Grimm (Earth-616)  ...  1961.0\n",
              "2166               Reed Richards (Earth-616)  ...  1961.0\n",
              "1833              Hulk (Robert Bruce Banner)  ...  1962.0\n",
              "29481              Scott Summers (Earth-616)  ...  1963.0\n",
              "1837              Jonathan Storm (Earth-616)  ...  1961.0\n",
              "\n",
              "[10 rows x 12 columns]"
            ]
          },
          "metadata": {
            "tags": []
          },
          "execution_count": 6
        }
      ]
    },
    {
      "cell_type": "code",
      "metadata": {
        "colab": {
          "base_uri": "https://localhost:8080/"
        },
        "id": "cJN1Bahvk_iS",
        "outputId": "2601df73-2c85-4732-a5a7-106073d39055"
      },
      "source": [
        "df.shape"
      ],
      "execution_count": 7,
      "outputs": [
        {
          "output_type": "execute_result",
          "data": {
            "text/plain": [
              "(16376, 12)"
            ]
          },
          "metadata": {
            "tags": []
          },
          "execution_count": 7
        }
      ]
    },
    {
      "cell_type": "markdown",
      "metadata": {
        "id": "mM5Jg3a1jfoL"
      },
      "source": [
        "## Exploring the Data"
      ]
    },
    {
      "cell_type": "markdown",
      "metadata": {
        "id": "wqDmelEYgqh0"
      },
      "source": [
        "Now: trying to find some trends displayed by the data. Trying out some visualizations to see if they reveal anything."
      ]
    },
    {
      "cell_type": "code",
      "metadata": {
        "colab": {
          "base_uri": "https://localhost:8080/",
          "height": 313
        },
        "id": "ULzM7mQLmpI5",
        "outputId": "15636d42-1f8e-4ba7-b213-7150a1fcfceb"
      },
      "source": [
        "df.groupby('ALIGN').head()\n",
        "sns.scatterplot(x='ALIGN', y='APPEARANCES', data=df).set(title=\"Appearances Grouped by Alignment\")"
      ],
      "execution_count": 9,
      "outputs": [
        {
          "output_type": "execute_result",
          "data": {
            "text/plain": [
              "[Text(0.5, 1.0, 'Appearances Grouped by Alignment')]"
            ]
          },
          "metadata": {
            "tags": []
          },
          "execution_count": 9
        },
        {
          "output_type": "display_data",
          "data": {
            "image/png": "[encoded data removed]",
            "text/plain": [
              "<Figure size 432x288 with 1 Axes>"
            ]
          },
          "metadata": {
            "tags": [],
            "needs_background": "light"
          }
        }
      ]
    },
    {
      "cell_type": "code",
      "metadata": {
        "colab": {
          "base_uri": "https://localhost:8080/",
          "height": 313
        },
        "id": "EONa0WivgRfd",
        "outputId": "c469b5d6-4929-447a-c740-9badc582c8c3"
      },
      "source": [
        "sns.boxplot(x='ALIGN', y='APPEARANCES', data=df).set(title=\"Appearances Grouped by Alignment\")"
      ],
      "execution_count": 10,
      "outputs": [
        {
          "output_type": "execute_result",
          "data": {
            "text/plain": [
              "[Text(0.5, 1.0, 'Appearances Grouped by Alignment')]"
            ]
          },
          "metadata": {
            "tags": []
          },
          "execution_count": 10
        },
        {
          "output_type": "display_data",
          "data": {
            "image/png": "[encoded data removed]",
            "text/plain": [
              "<Figure size 432x288 with 1 Axes>"
            ]
          },
          "metadata": {
            "tags": [],
            "needs_background": "light"
          }
        }
      ]
    },
    {
      "cell_type": "markdown",
      "metadata": {
        "id": "44_fsJxLf9YF"
      },
      "source": [
        "The scatterplot and boxplot both seem to indicate that the characters with the highest number of comic appearances are aligned good. Given the scale, however, the boxplot doesn't seem to be a good way to represent the data, as the box itself is too condensed for all three alignments. "
      ]
    },
    {
      "cell_type": "code",
      "metadata": {
        "colab": {
          "base_uri": "https://localhost:8080/",
          "height": 297
        },
        "id": "MewgRZaFn6hL",
        "outputId": "2b749685-2528-4878-e0b1-12d4c9a1408c"
      },
      "source": [
        "sns.scatterplot(x=\"Year\", y=\"APPEARANCES\", data=df)\n"
      ],
      "execution_count": 30,
      "outputs": [
        {
          "output_type": "execute_result",
          "data": {
            "text/plain": [
              "<matplotlib.axes._subplots.AxesSubplot at 0x7fbaebe724d0>"
            ]
          },
          "metadata": {
            "tags": []
          },
          "execution_count": 30
        },
        {
          "output_type": "display_data",
          "data": {
            "image/png": "[encoded data removed]",
            "text/plain": [
              "<Figure size 432x288 with 1 Axes>"
            ]
          },
          "metadata": {
            "tags": [],
            "needs_background": "light"
          }
        }
      ]
    },
    {
      "cell_type": "markdown",
      "metadata": {
        "id": "AI1ZdkSKqpqU"
      },
      "source": [
        "Since the year indicates the year of first appearance in a comic book, this seems to indicate that around 1960-70 saw the most new characters introduced."
      ]
    },
    {
      "cell_type": "code",
      "metadata": {
        "colab": {
          "base_uri": "https://localhost:8080/",
          "height": 351
        },
        "id": "Xzf82nLwoj2I",
        "outputId": "972ace58-dff9-4aed-fa4f-abd51c0586cc"
      },
      "source": [
        "sns.distplot(df.APPEARANCES)"
      ],
      "execution_count": 31,
      "outputs": [
        {
          "output_type": "stream",
          "text": [
            "/usr/local/lib/python3.7/dist-packages/seaborn/distributions.py:2557: FutureWarning: `distplot` is a deprecated function and will be removed in a future version. Please adapt your code to use either `displot` (a figure-level function with similar flexibility) or `histplot` (an axes-level function for histograms).\n",
            "  warnings.warn(msg, FutureWarning)\n"
          ],
          "name": "stderr"
        },
        {
          "output_type": "execute_result",
          "data": {
            "text/plain": [
              "<matplotlib.axes._subplots.AxesSubplot at 0x7fbaebe74b50>"
            ]
          },
          "metadata": {
            "tags": []
          },
          "execution_count": 31
        },
        {
          "output_type": "display_data",
          "data": {
            "image/png": "[encoded data removed]",
            "text/plain": [
              "<Figure size 432x288 with 1 Axes>"
            ]
          },
          "metadata": {
            "tags": [],
            "needs_background": "light"
          }
        }
      ]
    },
    {
      "cell_type": "code",
      "metadata": {
        "colab": {
          "base_uri": "https://localhost:8080/"
        },
        "id": "t8BdS6LphO87",
        "outputId": "222a87e8-9f0d-4500-f2e2-2573cdaae52e"
      },
      "source": [
        "df[\"APPEARANCES\"].max()"
      ],
      "execution_count": 14,
      "outputs": [
        {
          "output_type": "execute_result",
          "data": {
            "text/plain": [
              "4043.0"
            ]
          },
          "metadata": {
            "tags": []
          },
          "execution_count": 14
        }
      ]
    },
    {
      "cell_type": "markdown",
      "metadata": {
        "id": "MmsgXBwPg94K"
      },
      "source": [
        "Since the dataset contains a very large number of characters, many of which may be incredibly minor, the shape of the \"APPEARANCES\" distribution plot makes sense. The average number of appearances may be much lower than the max."
      ]
    },
    {
      "cell_type": "code",
      "metadata": {
        "colab": {
          "base_uri": "https://localhost:8080/"
        },
        "id": "jXyDnL0Yo6o-",
        "outputId": "867b680b-0661-4c3d-8283-97da634846ce"
      },
      "source": [
        "blue = (df['EYE'].values == ('Blue Eyes')).sum()\n",
        "brown = (df['EYE'].values == ('Brown Eyes')).sum()\n",
        "black = (df['EYE'].values == ('Black Eyes')).sum()\n",
        "hazel = (df['EYE'].values == ('Hazel Eyes')).sum()\n",
        "\n",
        "print(blue, brown, black, hazel)"
      ],
      "execution_count": 42,
      "outputs": [
        {
          "output_type": "stream",
          "text": [
            "1962 1924 555 76\n"
          ],
          "name": "stdout"
        }
      ]
    },
    {
      "cell_type": "code",
      "metadata": {
        "colab": {
          "base_uri": "https://localhost:8080/"
        },
        "id": "p1lDu50xpvGW",
        "outputId": "5bf70239-6069-4d6b-d213-03388e9a0327"
      },
      "source": [
        "male = (df['SEX'].values == ('Male Characters')).sum()\n",
        "female = (df['SEX'].values == ('Female Characters')).sum()\n",
        "print(male, female)"
      ],
      "execution_count": 45,
      "outputs": [
        {
          "output_type": "stream",
          "text": [
            "11638 3837\n"
          ],
          "name": "stdout"
        }
      ]
    },
    {
      "cell_type": "code",
      "metadata": {
        "colab": {
          "base_uri": "https://localhost:8080/",
          "height": 394
        },
        "id": "ED6qtqJyrgpY",
        "outputId": "ffd2c13e-be2c-49f8-ed37-5418e0cbb395"
      },
      "source": [
        "eyes = df.groupby(\"EYE\").count()\n",
        "eyes.head(10)"
      ],
      "execution_count": 16,
      "outputs": [
        {
          "output_type": "execute_result",
          "data": {
            "text/html": [
              "<div>\n",
              "<style scoped>\n",
              "    .dataframe tbody tr th:only-of-type {\n",
              "        vertical-align: middle;\n",
              "    }\n",
              "\n",
              "    .dataframe tbody tr th {\n",
              "        vertical-align: top;\n",
              "    }\n",
              "\n",
              "    .dataframe thead th {\n",
              "        text-align: right;\n",
              "    }\n",
              "</style>\n",
              "<table border=\"1\" class=\"dataframe\">\n",
              "  <thead>\n",
              "    <tr style=\"text-align: right;\">\n",
              "      <th></th>\n",
              "      <th>name</th>\n",
              "      <th>urlslug</th>\n",
              "      <th>ID</th>\n",
              "      <th>ALIGN</th>\n",
              "      <th>HAIR</th>\n",
              "      <th>SEX</th>\n",
              "      <th>GSM</th>\n",
              "      <th>ALIVE</th>\n",
              "      <th>APPEARANCES</th>\n",
              "      <th>FIRST APPEARANCE</th>\n",
              "      <th>Year</th>\n",
              "    </tr>\n",
              "    <tr>\n",
              "      <th>EYE</th>\n",
              "      <th></th>\n",
              "      <th></th>\n",
              "      <th></th>\n",
              "      <th></th>\n",
              "      <th></th>\n",
              "      <th></th>\n",
              "      <th></th>\n",
              "      <th></th>\n",
              "      <th></th>\n",
              "      <th></th>\n",
              "      <th></th>\n",
              "    </tr>\n",
              "  </thead>\n",
              "  <tbody>\n",
              "    <tr>\n",
              "      <th>Amber Eyes</th>\n",
              "      <td>10</td>\n",
              "      <td>10</td>\n",
              "      <td>10</td>\n",
              "      <td>8</td>\n",
              "      <td>10</td>\n",
              "      <td>10</td>\n",
              "      <td>0</td>\n",
              "      <td>10</td>\n",
              "      <td>10</td>\n",
              "      <td>6</td>\n",
              "      <td>6</td>\n",
              "    </tr>\n",
              "    <tr>\n",
              "      <th>Black Eyeballs</th>\n",
              "      <td>3</td>\n",
              "      <td>3</td>\n",
              "      <td>3</td>\n",
              "      <td>3</td>\n",
              "      <td>3</td>\n",
              "      <td>3</td>\n",
              "      <td>0</td>\n",
              "      <td>3</td>\n",
              "      <td>3</td>\n",
              "      <td>3</td>\n",
              "      <td>3</td>\n",
              "    </tr>\n",
              "    <tr>\n",
              "      <th>Black Eyes</th>\n",
              "      <td>555</td>\n",
              "      <td>555</td>\n",
              "      <td>481</td>\n",
              "      <td>451</td>\n",
              "      <td>524</td>\n",
              "      <td>535</td>\n",
              "      <td>5</td>\n",
              "      <td>555</td>\n",
              "      <td>520</td>\n",
              "      <td>514</td>\n",
              "      <td>514</td>\n",
              "    </tr>\n",
              "    <tr>\n",
              "      <th>Blue Eyes</th>\n",
              "      <td>1962</td>\n",
              "      <td>1962</td>\n",
              "      <td>1792</td>\n",
              "      <td>1757</td>\n",
              "      <td>1906</td>\n",
              "      <td>1951</td>\n",
              "      <td>21</td>\n",
              "      <td>1962</td>\n",
              "      <td>1874</td>\n",
              "      <td>1857</td>\n",
              "      <td>1857</td>\n",
              "    </tr>\n",
              "    <tr>\n",
              "      <th>Brown Eyes</th>\n",
              "      <td>1924</td>\n",
              "      <td>1924</td>\n",
              "      <td>1689</td>\n",
              "      <td>1669</td>\n",
              "      <td>1885</td>\n",
              "      <td>1921</td>\n",
              "      <td>27</td>\n",
              "      <td>1924</td>\n",
              "      <td>1850</td>\n",
              "      <td>1821</td>\n",
              "      <td>1821</td>\n",
              "    </tr>\n",
              "    <tr>\n",
              "      <th>Compound Eyes</th>\n",
              "      <td>1</td>\n",
              "      <td>1</td>\n",
              "      <td>0</td>\n",
              "      <td>1</td>\n",
              "      <td>0</td>\n",
              "      <td>1</td>\n",
              "      <td>0</td>\n",
              "      <td>1</td>\n",
              "      <td>1</td>\n",
              "      <td>1</td>\n",
              "      <td>1</td>\n",
              "    </tr>\n",
              "    <tr>\n",
              "      <th>Gold Eyes</th>\n",
              "      <td>14</td>\n",
              "      <td>14</td>\n",
              "      <td>11</td>\n",
              "      <td>14</td>\n",
              "      <td>14</td>\n",
              "      <td>13</td>\n",
              "      <td>0</td>\n",
              "      <td>14</td>\n",
              "      <td>14</td>\n",
              "      <td>14</td>\n",
              "      <td>14</td>\n",
              "    </tr>\n",
              "    <tr>\n",
              "      <th>Green Eyes</th>\n",
              "      <td>613</td>\n",
              "      <td>613</td>\n",
              "      <td>562</td>\n",
              "      <td>557</td>\n",
              "      <td>585</td>\n",
              "      <td>600</td>\n",
              "      <td>10</td>\n",
              "      <td>613</td>\n",
              "      <td>561</td>\n",
              "      <td>580</td>\n",
              "      <td>580</td>\n",
              "    </tr>\n",
              "    <tr>\n",
              "      <th>Grey Eyes</th>\n",
              "      <td>95</td>\n",
              "      <td>95</td>\n",
              "      <td>84</td>\n",
              "      <td>86</td>\n",
              "      <td>93</td>\n",
              "      <td>95</td>\n",
              "      <td>1</td>\n",
              "      <td>95</td>\n",
              "      <td>91</td>\n",
              "      <td>92</td>\n",
              "      <td>92</td>\n",
              "    </tr>\n",
              "    <tr>\n",
              "      <th>Hazel Eyes</th>\n",
              "      <td>76</td>\n",
              "      <td>76</td>\n",
              "      <td>74</td>\n",
              "      <td>69</td>\n",
              "      <td>75</td>\n",
              "      <td>75</td>\n",
              "      <td>5</td>\n",
              "      <td>76</td>\n",
              "      <td>68</td>\n",
              "      <td>67</td>\n",
              "      <td>67</td>\n",
              "    </tr>\n",
              "  </tbody>\n",
              "</table>\n",
              "</div>"
            ],
            "text/plain": [
              "                name  urlslug    ID  ...  APPEARANCES  FIRST APPEARANCE  Year\n",
              "EYE                                  ...                                     \n",
              "Amber Eyes        10       10    10  ...           10                 6     6\n",
              "Black Eyeballs     3        3     3  ...            3                 3     3\n",
              "Black Eyes       555      555   481  ...          520               514   514\n",
              "Blue Eyes       1962     1962  1792  ...         1874              1857  1857\n",
              "Brown Eyes      1924     1924  1689  ...         1850              1821  1821\n",
              "Compound Eyes      1        1     0  ...            1                 1     1\n",
              "Gold Eyes         14       14    11  ...           14                14    14\n",
              "Green Eyes       613      613   562  ...          561               580   580\n",
              "Grey Eyes         95       95    84  ...           91                92    92\n",
              "Hazel Eyes        76       76    74  ...           68                67    67\n",
              "\n",
              "[10 rows x 11 columns]"
            ]
          },
          "metadata": {
            "tags": []
          },
          "execution_count": 16
        }
      ]
    },
    {
      "cell_type": "code",
      "metadata": {
        "colab": {
          "base_uri": "https://localhost:8080/"
        },
        "id": "_aEaTyP4wX6b",
        "outputId": "c5cef015-df8f-4df0-b91a-08109b78b382"
      },
      "source": [
        "eyes[\"name\"]\n",
        "# plt.figure(figsize=(20,8))\n",
        "# sns.barplot(x=\"EYE\", y=\"APPEARANCES\", data=df)"
      ],
      "execution_count": 17,
      "outputs": [
        {
          "output_type": "execute_result",
          "data": {
            "text/plain": [
              "EYE\n",
              "Amber Eyes           10\n",
              "Black Eyeballs        3\n",
              "Black Eyes          555\n",
              "Blue Eyes          1962\n",
              "Brown Eyes         1924\n",
              "Compound Eyes         1\n",
              "Gold Eyes            14\n",
              "Green Eyes          613\n",
              "Grey Eyes            95\n",
              "Hazel Eyes           76\n",
              "Magenta Eyes          2\n",
              "Multiple Eyes         7\n",
              "No Eyes               7\n",
              "One Eye              21\n",
              "Orange Eyes          25\n",
              "Pink Eyes            21\n",
              "Purple Eyes          31\n",
              "Red Eyes            508\n",
              "Silver Eyes          12\n",
              "Variable Eyes        49\n",
              "Violet Eyes          11\n",
              "White Eyes          400\n",
              "Yellow Eyeballs       6\n",
              "Yellow Eyes         256\n",
              "Name: name, dtype: int64"
            ]
          },
          "metadata": {
            "tags": []
          },
          "execution_count": 17
        }
      ]
    },
    {
      "cell_type": "markdown",
      "metadata": {
        "id": "v1VXZotPwNsO"
      },
      "source": [
        "Blue and Brown eyes are the most common for comic book characters, by far, as indicated by the data grouped by eye color."
      ]
    },
    {
      "cell_type": "markdown",
      "metadata": {
        "id": "6e428ZX9ksUI"
      },
      "source": [
        "## Note and Extra"
      ]
    },
    {
      "cell_type": "markdown",
      "metadata": {
        "id": "m8nwwy-kiiXF"
      },
      "source": [
        "Something to note: from working with the data, it can be seen that several columns are missing substantial data. This is also something that was shown when the non-null values were listed. So, depending on what this dataset would be used for, further analysis may be necessary to determine if there are enough points for the purpose."
      ]
    },
    {
      "cell_type": "code",
      "metadata": {
        "colab": {
          "base_uri": "https://localhost:8080/",
          "height": 300
        },
        "id": "eE62Ke2bjp-K",
        "outputId": "f11b2835-1483-4a0d-c744-56ea3bd1a424"
      },
      "source": [
        "df.describe()"
      ],
      "execution_count": 18,
      "outputs": [
        {
          "output_type": "execute_result",
          "data": {
            "text/html": [
              "<div>\n",
              "<style scoped>\n",
              "    .dataframe tbody tr th:only-of-type {\n",
              "        vertical-align: middle;\n",
              "    }\n",
              "\n",
              "    .dataframe tbody tr th {\n",
              "        vertical-align: top;\n",
              "    }\n",
              "\n",
              "    .dataframe thead th {\n",
              "        text-align: right;\n",
              "    }\n",
              "</style>\n",
              "<table border=\"1\" class=\"dataframe\">\n",
              "  <thead>\n",
              "    <tr style=\"text-align: right;\">\n",
              "      <th></th>\n",
              "      <th>APPEARANCES</th>\n",
              "      <th>Year</th>\n",
              "    </tr>\n",
              "  </thead>\n",
              "  <tbody>\n",
              "    <tr>\n",
              "      <th>count</th>\n",
              "      <td>15280.000000</td>\n",
              "      <td>15561.000000</td>\n",
              "    </tr>\n",
              "    <tr>\n",
              "      <th>mean</th>\n",
              "      <td>17.033377</td>\n",
              "      <td>1984.951803</td>\n",
              "    </tr>\n",
              "    <tr>\n",
              "      <th>std</th>\n",
              "      <td>96.372959</td>\n",
              "      <td>19.663571</td>\n",
              "    </tr>\n",
              "    <tr>\n",
              "      <th>min</th>\n",
              "      <td>1.000000</td>\n",
              "      <td>1939.000000</td>\n",
              "    </tr>\n",
              "    <tr>\n",
              "      <th>25%</th>\n",
              "      <td>1.000000</td>\n",
              "      <td>1974.000000</td>\n",
              "    </tr>\n",
              "    <tr>\n",
              "      <th>50%</th>\n",
              "      <td>3.000000</td>\n",
              "      <td>1990.000000</td>\n",
              "    </tr>\n",
              "    <tr>\n",
              "      <th>75%</th>\n",
              "      <td>8.000000</td>\n",
              "      <td>2000.000000</td>\n",
              "    </tr>\n",
              "    <tr>\n",
              "      <th>max</th>\n",
              "      <td>4043.000000</td>\n",
              "      <td>2013.000000</td>\n",
              "    </tr>\n",
              "  </tbody>\n",
              "</table>\n",
              "</div>"
            ],
            "text/plain": [
              "        APPEARANCES          Year\n",
              "count  15280.000000  15561.000000\n",
              "mean      17.033377   1984.951803\n",
              "std       96.372959     19.663571\n",
              "min        1.000000   1939.000000\n",
              "25%        1.000000   1974.000000\n",
              "50%        3.000000   1990.000000\n",
              "75%        8.000000   2000.000000\n",
              "max     4043.000000   2013.000000"
            ]
          },
          "metadata": {
            "tags": []
          },
          "execution_count": 18
        }
      ]
    },
    {
      "cell_type": "markdown",
      "metadata": {
        "id": "6vIWGjszjxWC"
      },
      "source": [
        "The summary statistics for the quantitative columns (as the boxplots earlier attempted to represent) indicate that a majority of the documented characters had very few appearances. This may explain why there may be missing info for their rows, since minor characters with little backstory may have less available information. This table also shows, however, that the newest documented comic character had their first appearance in 2013, which indicates that the dataset could be slightly outdated."
      ]
    }
  ]
}